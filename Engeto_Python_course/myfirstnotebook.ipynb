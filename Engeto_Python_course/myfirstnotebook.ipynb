{
 "cells": [
  {
   "cell_type": "code",
   "execution_count": 17,
   "metadata": {},
   "outputs": [
    {
     "name": "stdout",
     "output_type": "stream",
     "text": [
      "Na indexu 2 je: Anna\n",
      "Na 7 indexu je Anezka\n",
      "V intervalu od 2 do 5 je: ['Anna', 'Jakub', 'Klara', 'Anezka']\n",
      "Kazdy treti clen je: ['Frantisek', 'Jakub', 'Anezka']\n"
     ]
    }
   ],
   "source": [
    "employees = [\"Frantisek\", \"Bruno\", \"Anna\", \"Jakub\", \"Klara\", \"Anezka\", \"Anezka\", \"Anezka\"]\n",
    "\n",
    "# Find the last index where \"Anezka\" occurs\n",
    "posledni_index = len(employees) - 1 \n",
    "\n",
    "# Accessing the element at index 2\n",
    "print(\"Na indexu 2 je: \" + employees[2])\n",
    "\n",
    "# Display the last index of \"Anezka\"\n",
    "print(f\"Na {posledni_index} indexu je \" + employees[-1])\n",
    "\n",
    "# Slicing from index 2 onward\n",
    "print(\"V intervalu od 2 do 5 je: \" + str(employees[2:6]))\n",
    "\n",
    "# Every third element in the list\n",
    "print(\"Kazdy treti clen je: \" + str(employees[::3]))\n"
   ]
  },
  {
   "cell_type": "code",
   "execution_count": 18,
   "metadata": {},
   "outputs": [
    {
     "name": "stdout",
     "output_type": "stream",
     "text": [
      "Martin, Vaš BMI je 20.0, kategorie je zdrava vaha.\n"
     ]
    }
   ],
   "source": [
    "jmeno = \"Martin\"\n",
    "\n",
    "weight = 80\n",
    "height = 200\n",
    "\n",
    "bmi = weight / (height / 100) ** 2\n",
    "\n",
    "if bmi < 18.5:\n",
    "    kategorie = \"podvyziva\"\n",
    "elif 18.5 <= bmi < 25:\n",
    "    kategorie = \"zdrava vaha\"\n",
    "elif 25 <= bmi < 30:\n",
    "    kategorie = \"mirna nadvaha\"\n",
    "elif 30 <= bmi < 40:\n",
    "    kategorie = \"obezita\"\n",
    "else:\n",
    "    kategorie = \"tezka obezita\"\n",
    "   \n",
    "\n",
    "print(f\"{jmeno}, Vaš BMI je {bmi}, kategorie je {kategorie}.\")"
   ]
  },
  {
   "cell_type": "code",
   "execution_count": 26,
   "metadata": {},
   "outputs": [
    {
     "name": "stdout",
     "output_type": "stream",
     "text": [
      "Zamestnanci na zacatku: ['Frantisek', 'Anna', 'Jakub', 'Klara']\n",
      "Zamestnanci po pridani: ['Frantisek', 'Anna', 'Jakub', 'Klara', 'Bruno', 'Anezka']\n",
      "Nová jména vložena: ['Frantisek', 'Bruno', 'Anna', 'Jakub', 'Klara', 'Bruno', 'Anezka']\n"
     ]
    }
   ],
   "source": [
    "zamestnanci = [\"Frantisek\", \"Anna\", \"Jakub\", \"Klara\"]\n",
    "\n",
    "print(f\"Zamestnanci na zacatku: {zamestnanci}\")\n",
    "\n",
    "# Correct way to add multiple elements to the list\n",
    "zamestnanci.extend([\"Bruno\", \"Anezka\"])\n",
    "\n",
    "print(f\"Zamestnanci po pridani: {zamestnanci}\")\n",
    "\n",
    "zamestnanci_b = zamestnanci.copy()\n",
    "zamestnanci_b.insert(1, \"Bruno\")\n",
    "\n",
    "# Výpis seznamu \"zamestnanci\"\n",
    "print(\"Nová jména vložena:\", zamestnanci_b)\n"
   ]
  },
  {
   "cell_type": "code",
   "execution_count": 35,
   "metadata": {},
   "outputs": [
    {
     "name": "stdout",
     "output_type": "stream",
     "text": [
      "nespravana vstupni hodnota\n"
     ]
    }
   ],
   "source": [
    "vstupni_cisla = [1, 2, 3, 4, 5, 6, 7]\n",
    "vstupni_pismena = [\"p\", \"ú\", \"s\", \"č\", \"p\", \"s\", \"n\"]\n",
    "tyden = ('pondělí', 'úterý', 'středa', 'čtvrtek', 'pátek', 'sobota', 'neděle')\n",
    "\n",
    "cislo_dne = 8\n",
    "\n",
    "\n",
    "\n",
    "if cislo_dne in vstupni_cisla:\n",
    "    print(\"sprvana vztupni hodnota\")\n",
    "\n",
    "    den_tydne = tyden[cislo_dne - 1]\n",
    "    if den_tydne.startswith(vstupni_pismena[cislo_dne - 1]):\n",
    "        print (\"spravne pismeno\")\n",
    "\n",
    "    else :\n",
    "        print (\"nespravne pismeno\")\n",
    "else: \n",
    "    print(\"nespravana vstupni hodnota\") \n",
    "\n"
   ]
  },
  {
   "cell_type": "code",
   "execution_count": 39,
   "metadata": {},
   "outputs": [
    {
     "name": "stdout",
     "output_type": "stream",
     "text": [
      "3.0 je mensi nez 5.0\n"
     ]
    }
   ],
   "source": [
    "cislo_1 = float(input(\"Cislo 1: \"))\n",
    "cislo_2 = float(input(\"Cislo 2: \"))\n",
    "\n",
    "if cislo_1 > cislo_2:\n",
    "    print(f\"{cislo_1} je vetsi nez {cislo_2}\")\n",
    "elif cislo_1 < cislo_2:\n",
    "    print(f\"{cislo_1} je mensi nez {cislo_2}\")\n",
    "else:\n",
    "    print(f\"{cislo_1} je rovno {cislo_2}\")\n"
   ]
  },
  {
   "cell_type": "code",
   "execution_count": 49,
   "metadata": {},
   "outputs": [
    {
     "name": "stdout",
     "output_type": "stream",
     "text": [
      "Na indexu 2 je: Anna\n",
      "Na 7 indexu je: Anežka\n",
      "V intervalu od 2 do 5 je: ['Anna', 'Jakub', 'Klára', 'Anežka']\n",
      "Každý třetí člen je: ['František', 'Jakub', 'Anežka']\n"
     ]
    }
   ],
   "source": [
    "# Zadaný seznam \"zamestnanci\"\n",
    "zamestnanci = [\n",
    "    'František', 'Bruno',\n",
    "    'Anna', 'Jakub',\n",
    "    'Klára', 'Anežka',\n",
    "    'Anežka', 'Anežka'\n",
    "]\n",
    "\n",
    "# Zjisti kolikátý je poslední index\n",
    "posledni_index = len(zamestnanci) - 1\n",
    "\n",
    "# Hodnota na druhém indexu\n",
    "print('Na indexu 2 je:', zamestnanci[2])\n",
    "\n",
    "# Výpis hodnoty na posledním indexu\n",
    "print('Na', posledni_index, \"indexu je:\",  zamestnanci[posledni_index])\n",
    "\n",
    "# Výpis hodnot na indexech 2-5\n",
    "print('V intervalu od 2 do 5 je:', zamestnanci[2:6])\n",
    "\n",
    "# Vypiš každý třetí prvek listu \"zamestnanci\"\n",
    "print('Každý třetí člen je:', zamestnanci[::3])"
   ]
  },
  {
   "cell_type": "markdown",
   "metadata": {},
   "source": [
    "heslo_0 = \"\"            # FAIL -> \"Vynechal jsi pole s heslem!\"\n",
    "heslo_1 = \"1panpes738\"  # FAIL -> \"Heslo nesmí začínat číselným znakem\"\n",
    "heslo_2 = \"panpessss\"   # FAIL -> \"Heslo musí obsahovat jak číselné znaky, tak písmena\"\n",
    "heslo_3 = \"123456\"      # FAIL -> \"Heslo nesmí začínat číselným znakem\"\n",
    "heslo_4 = \"aa1234\"      # FAIL -> \"Heslo musí být alespoň 8 znaků dlouhé\"\n",
    "heslo_5 = \"p@npes7778\"  # FAIL -> \"Heslo nesmí obsahovat '@'\"\n",
    "heslo_6 = \"panpes7778\"  # PASS -> \"Heslo je v pořádku\"\n",
    "\n",
    "heslo = heslo_6\n",
    "\n",
    "heslo_0 = \"\"            # FAIL -> \"Vynechal jsi pole s heslem!\" x\n",
    "heslo_1 = \"1panpes738\"  # FAIL -> \"Heslo nesmí začínat číselným znakem\" x\n",
    "heslo_2 = \"panpessss\"   # FAIL -> \"Heslo musí obsahovat jak číselné znaky, tak písmena\"\n",
    "heslo_3 = \"12345678\"    # FAIL -> \"Heslo nesmí začínat číselným znakem\" x\n",
    "heslo_4 = \"aa1234\"      # FAIL -> \"Heslo musí být alespoň 8 znaků dlouhé\" x\n",
    "heslo_5 = \"p@npes7778\"  # FAIL -> \"Heslo nesmí obsahovat '@'\"\n",
    "heslo_6 = \"panpes7778\"  # PASS -> \"Heslo je v pořádku\""
   ]
  },
  {
   "cell_type": "code",
   "execution_count": null,
   "metadata": {},
   "outputs": [],
   "source": []
  },
  {
   "cell_type": "code",
   "execution_count": 6,
   "metadata": {},
   "outputs": [
    {
     "name": "stdout",
     "output_type": "stream",
     "text": [
      "User #1 {'name': 'Marek', 'surname': 'Parek', 'user_email': 'marek.parek@gmail.com'}\n"
     ]
    }
   ],
   "source": [
    "user_1 = dict()\n",
    "\n",
    "# Přidání položek do slovníku\n",
    "user_1[\"name\"] = \"Marek\"\n",
    "user_1[\"surname\"] = \"Parek\"\n",
    "\n",
    "user_1.update({\"user_email\": \"marek.parek@gmail.com\"})\n",
    "\n",
    "\n",
    "print(\"User #1\", user_1)"
   ]
  },
  {
   "cell_type": "code",
   "execution_count": 8,
   "metadata": {},
   "outputs": [
    {
     "name": "stdout",
     "output_type": "stream",
     "text": [
      "Ahoj Marek vitej v aplikaci! Pokracuj...\n"
     ]
    }
   ],
   "source": [
    "jmeno = 'Marek'\n",
    "heslo = '1234'\n",
    "uzivatel = {'Marek': '1234'}\n",
    "\n",
    "if uzivatel.get(jmeno) == heslo:\n",
    "    print(\"Ahoj\",jmeno, \"vitej v aplikaci! Pokracuj...\")\n",
    "else:\n",
    "    print(\"Uzivatelske jmen nebo heslo nejsou v poradku\")"
   ]
  },
  {
   "cell_type": "code",
   "execution_count": 11,
   "metadata": {},
   "outputs": [
    {
     "name": "stdout",
     "output_type": "stream",
     "text": [
      "Sjednocene hodnoty ze zadani:  {1, 2, 3, 4, 5, 6, 7, 8}\n"
     ]
    }
   ],
   "source": [
    "cisla_1 = (1, 1, 2, 3, 4)\n",
    "cisla_2 = (5, 6, 7, 7, 8)\n",
    "\n",
    "set(cisla_1)\n",
    "\n",
    "set(cisla_2)\n",
    "\n",
    "# Výpočet průniku\n",
    "\n",
    "sjednoceni = set(cisla_1) | set(cisla_2)\n",
    "\n",
    "print (\"Sjednocene hodnoty ze zadani: \", sjednoceni)"
   ]
  },
  {
   "cell_type": "code",
   "execution_count": 15,
   "metadata": {},
   "outputs": [
    {
     "name": "stdout",
     "output_type": "stream",
     "text": [
      "Rozdil prvniho setu proti druhemu:  {1, 2}\n"
     ]
    }
   ],
   "source": [
    "cisla_1 = {1, 2, 3, 4}\n",
    "cisla_2 = {3, 4, 5, 6}\n",
    "\n",
    "# rozdil prvniho setu proti druhemu\n",
    "\n",
    "rozdil = cisla_1 - cisla_2\n",
    "\n",
    "print (\"Rozdil prvniho setu proti druhemu: \", rozdil)"
   ]
  }
 ],
 "metadata": {
  "kernelspec": {
   "display_name": "Pandas",
   "language": "python",
   "name": "python3"
  },
  "language_info": {
   "codemirror_mode": {
    "name": "ipython",
    "version": 3
   },
   "file_extension": ".py",
   "mimetype": "text/x-python",
   "name": "python",
   "nbconvert_exporter": "python",
   "pygments_lexer": "ipython3",
   "version": "3.11.9"
  }
 },
 "nbformat": 4,
 "nbformat_minor": 2
}
