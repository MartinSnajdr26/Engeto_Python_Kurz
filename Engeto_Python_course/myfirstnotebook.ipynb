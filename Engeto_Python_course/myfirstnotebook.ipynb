{
 "cells": [
  {
   "cell_type": "code",
   "execution_count": 17,
   "metadata": {},
   "outputs": [
    {
     "name": "stdout",
     "output_type": "stream",
     "text": [
      "Na indexu 2 je: Anna\n",
      "Na 7 indexu je Anezka\n",
      "V intervalu od 2 do 5 je: ['Anna', 'Jakub', 'Klara', 'Anezka']\n",
      "Kazdy treti clen je: ['Frantisek', 'Jakub', 'Anezka']\n"
     ]
    }
   ],
   "source": [
    "employees = [\"Frantisek\", \"Bruno\", \"Anna\", \"Jakub\", \"Klara\", \"Anezka\", \"Anezka\", \"Anezka\"]\n",
    "\n",
    "# Find the last index where \"Anezka\" occurs\n",
    "posledni_index = len(employees) - 1 \n",
    "\n",
    "# Accessing the element at index 2\n",
    "print(\"Na indexu 2 je: \" + employees[2])\n",
    "\n",
    "# Display the last index of \"Anezka\"\n",
    "print(f\"Na {posledni_index} indexu je \" + employees[-1])\n",
    "\n",
    "# Slicing from index 2 onward\n",
    "print(\"V intervalu od 2 do 5 je: \" + str(employees[2:6]))\n",
    "\n",
    "# Every third element in the list\n",
    "print(\"Kazdy treti clen je: \" + str(employees[::3]))\n"
   ]
  },
  {
   "cell_type": "code",
   "execution_count": 18,
   "metadata": {},
   "outputs": [
    {
     "name": "stdout",
     "output_type": "stream",
     "text": [
      "Martin, Vaš BMI je 20.0, kategorie je zdrava vaha.\n"
     ]
    }
   ],
   "source": [
    "jmeno = \"Martin\"\n",
    "\n",
    "weight = 80\n",
    "height = 200\n",
    "\n",
    "bmi = weight / (height / 100) ** 2\n",
    "\n",
    "if bmi < 18.5:\n",
    "    kategorie = \"podvyziva\"\n",
    "elif 18.5 <= bmi < 25:\n",
    "    kategorie = \"zdrava vaha\"\n",
    "elif 25 <= bmi < 30:\n",
    "    kategorie = \"mirna nadvaha\"\n",
    "elif 30 <= bmi < 40:\n",
    "    kategorie = \"obezita\"\n",
    "else:\n",
    "    kategorie = \"tezka obezita\"\n",
    "   \n",
    "\n",
    "print(f\"{jmeno}, Vaš BMI je {bmi}, kategorie je {kategorie}.\")"
   ]
  },
  {
   "cell_type": "code",
   "execution_count": 26,
   "metadata": {},
   "outputs": [
    {
     "name": "stdout",
     "output_type": "stream",
     "text": [
      "Zamestnanci na zacatku: ['Frantisek', 'Anna', 'Jakub', 'Klara']\n",
      "Zamestnanci po pridani: ['Frantisek', 'Anna', 'Jakub', 'Klara', 'Bruno', 'Anezka']\n",
      "Nová jména vložena: ['Frantisek', 'Bruno', 'Anna', 'Jakub', 'Klara', 'Bruno', 'Anezka']\n"
     ]
    }
   ],
   "source": [
    "zamestnanci = [\"Frantisek\", \"Anna\", \"Jakub\", \"Klara\"]\n",
    "\n",
    "print(f\"Zamestnanci na zacatku: {zamestnanci}\")\n",
    "\n",
    "# Correct way to add multiple elements to the list\n",
    "zamestnanci.extend([\"Bruno\", \"Anezka\"])\n",
    "\n",
    "print(f\"Zamestnanci po pridani: {zamestnanci}\")\n",
    "\n",
    "zamestnanci_b = zamestnanci.copy()\n",
    "zamestnanci_b.insert(1, \"Bruno\")\n",
    "\n",
    "# Výpis seznamu \"zamestnanci\"\n",
    "print(\"Nová jména vložena:\", zamestnanci_b)\n"
   ]
  },
  {
   "cell_type": "code",
   "execution_count": 35,
   "metadata": {},
   "outputs": [
    {
     "name": "stdout",
     "output_type": "stream",
     "text": [
      "nespravana vstupni hodnota\n"
     ]
    }
   ],
   "source": [
    "vstupni_cisla = [1, 2, 3, 4, 5, 6, 7]\n",
    "vstupni_pismena = [\"p\", \"ú\", \"s\", \"č\", \"p\", \"s\", \"n\"]\n",
    "tyden = ('pondělí', 'úterý', 'středa', 'čtvrtek', 'pátek', 'sobota', 'neděle')\n",
    "\n",
    "cislo_dne = 8\n",
    "\n",
    "\n",
    "\n",
    "if cislo_dne in vstupni_cisla:\n",
    "    print(\"sprvana vztupni hodnota\")\n",
    "\n",
    "    den_tydne = tyden[cislo_dne - 1]\n",
    "    if den_tydne.startswith(vstupni_pismena[cislo_dne - 1]):\n",
    "        print (\"spravne pismeno\")\n",
    "\n",
    "    else :\n",
    "        print (\"nespravne pismeno\")\n",
    "else: \n",
    "    print(\"nespravana vstupni hodnota\") \n",
    "\n"
   ]
  },
  {
   "cell_type": "code",
   "execution_count": 39,
   "metadata": {},
   "outputs": [
    {
     "name": "stdout",
     "output_type": "stream",
     "text": [
      "3.0 je mensi nez 5.0\n"
     ]
    }
   ],
   "source": [
    "cislo_1 = float(input(\"Cislo 1: \"))\n",
    "cislo_2 = float(input(\"Cislo 2: \"))\n",
    "\n",
    "if cislo_1 > cislo_2:\n",
    "    print(f\"{cislo_1} je vetsi nez {cislo_2}\")\n",
    "elif cislo_1 < cislo_2:\n",
    "    print(f\"{cislo_1} je mensi nez {cislo_2}\")\n",
    "else:\n",
    "    print(f\"{cislo_1} je rovno {cislo_2}\")\n"
   ]
  },
  {
   "cell_type": "code",
   "execution_count": 49,
   "metadata": {},
   "outputs": [
    {
     "name": "stdout",
     "output_type": "stream",
     "text": [
      "Na indexu 2 je: Anna\n",
      "Na 7 indexu je: Anežka\n",
      "V intervalu od 2 do 5 je: ['Anna', 'Jakub', 'Klára', 'Anežka']\n",
      "Každý třetí člen je: ['František', 'Jakub', 'Anežka']\n"
     ]
    }
   ],
   "source": [
    "# Zadaný seznam \"zamestnanci\"\n",
    "zamestnanci = [\n",
    "    'František', 'Bruno',\n",
    "    'Anna', 'Jakub',\n",
    "    'Klára', 'Anežka',\n",
    "    'Anežka', 'Anežka'\n",
    "]\n",
    "\n",
    "# Zjisti kolikátý je poslední index\n",
    "posledni_index = len(zamestnanci) - 1\n",
    "\n",
    "# Hodnota na druhém indexu\n",
    "print('Na indexu 2 je:', zamestnanci[2])\n",
    "\n",
    "# Výpis hodnoty na posledním indexu\n",
    "print('Na', posledni_index, \"indexu je:\",  zamestnanci[posledni_index])\n",
    "\n",
    "# Výpis hodnot na indexech 2-5\n",
    "print('V intervalu od 2 do 5 je:', zamestnanci[2:6])\n",
    "\n",
    "# Vypiš každý třetí prvek listu \"zamestnanci\"\n",
    "print('Každý třetí člen je:', zamestnanci[::3])"
   ]
  },
  {
   "cell_type": "markdown",
   "metadata": {},
   "source": [
    "heslo_0 = \"\"            # FAIL -> \"Vynechal jsi pole s heslem!\"\n",
    "heslo_1 = \"1panpes738\"  # FAIL -> \"Heslo nesmí začínat číselným znakem\"\n",
    "heslo_2 = \"panpessss\"   # FAIL -> \"Heslo musí obsahovat jak číselné znaky, tak písmena\"\n",
    "heslo_3 = \"123456\"      # FAIL -> \"Heslo nesmí začínat číselným znakem\"\n",
    "heslo_4 = \"aa1234\"      # FAIL -> \"Heslo musí být alespoň 8 znaků dlouhé\"\n",
    "heslo_5 = \"p@npes7778\"  # FAIL -> \"Heslo nesmí obsahovat '@'\"\n",
    "heslo_6 = \"panpes7778\"  # PASS -> \"Heslo je v pořádku\"\n",
    "\n",
    "heslo = heslo_6\n",
    "\n",
    "heslo_0 = \"\"            # FAIL -> \"Vynechal jsi pole s heslem!\" x\n",
    "heslo_1 = \"1panpes738\"  # FAIL -> \"Heslo nesmí začínat číselným znakem\" x\n",
    "heslo_2 = \"panpessss\"   # FAIL -> \"Heslo musí obsahovat jak číselné znaky, tak písmena\"\n",
    "heslo_3 = \"12345678\"    # FAIL -> \"Heslo nesmí začínat číselným znakem\" x\n",
    "heslo_4 = \"aa1234\"      # FAIL -> \"Heslo musí být alespoň 8 znaků dlouhé\" x\n",
    "heslo_5 = \"p@npes7778\"  # FAIL -> \"Heslo nesmí obsahovat '@'\"\n",
    "heslo_6 = \"panpes7778\"  # PASS -> \"Heslo je v pořádku\""
   ]
  },
  {
   "cell_type": "code",
   "execution_count": null,
   "metadata": {},
   "outputs": [],
   "source": []
  },
  {
   "cell_type": "code",
   "execution_count": 6,
   "metadata": {},
   "outputs": [
    {
     "name": "stdout",
     "output_type": "stream",
     "text": [
      "User #1 {'name': 'Marek', 'surname': 'Parek', 'user_email': 'marek.parek@gmail.com'}\n"
     ]
    }
   ],
   "source": [
    "user_1 = dict()\n",
    "\n",
    "# Přidání položek do slovníku\n",
    "user_1[\"name\"] = \"Marek\"\n",
    "user_1[\"surname\"] = \"Parek\"\n",
    "\n",
    "user_1.update({\"user_email\": \"marek.parek@gmail.com\"})\n",
    "\n",
    "\n",
    "print(\"User #1\", user_1)"
   ]
  },
  {
   "cell_type": "code",
   "execution_count": 8,
   "metadata": {},
   "outputs": [
    {
     "name": "stdout",
     "output_type": "stream",
     "text": [
      "Ahoj Marek vitej v aplikaci! Pokracuj...\n"
     ]
    }
   ],
   "source": [
    "jmeno = 'Marek'\n",
    "heslo = '1234'\n",
    "uzivatel = {'Marek': '1234'}\n",
    "\n",
    "if uzivatel.get(jmeno) == heslo:\n",
    "    print(\"Ahoj\",jmeno, \"vitej v aplikaci! Pokracuj...\")\n",
    "else:\n",
    "    print(\"Uzivatelske jmen nebo heslo nejsou v poradku\")"
   ]
  },
  {
   "cell_type": "code",
   "execution_count": 11,
   "metadata": {},
   "outputs": [
    {
     "name": "stdout",
     "output_type": "stream",
     "text": [
      "Sjednocene hodnoty ze zadani:  {1, 2, 3, 4, 5, 6, 7, 8}\n"
     ]
    }
   ],
   "source": [
    "cisla_1 = (1, 1, 2, 3, 4)\n",
    "cisla_2 = (5, 6, 7, 7, 8)\n",
    "\n",
    "set(cisla_1)\n",
    "\n",
    "set(cisla_2)\n",
    "\n",
    "# Výpočet průniku\n",
    "\n",
    "sjednoceni = set(cisla_1) | set(cisla_2)\n",
    "\n",
    "print (\"Sjednocene hodnoty ze zadani: \", sjednoceni)"
   ]
  },
  {
   "cell_type": "code",
   "execution_count": 15,
   "metadata": {},
   "outputs": [
    {
     "name": "stdout",
     "output_type": "stream",
     "text": [
      "Rozdil prvniho setu proti druhemu:  {1, 2}\n"
     ]
    }
   ],
   "source": [
    "cisla_1 = {1, 2, 3, 4}\n",
    "cisla_2 = {3, 4, 5, 6}\n",
    "\n",
    "# rozdil prvniho setu proti druhemu\n",
    "\n",
    "rozdil = cisla_1 - cisla_2\n",
    "\n",
    "print (\"Rozdil prvniho setu proti druhemu: \", rozdil)"
   ]
  },
  {
   "cell_type": "code",
   "execution_count": 16,
   "metadata": {},
   "outputs": [
    {
     "name": "stdout",
     "output_type": "stream",
     "text": [
      "Matous\n",
      "Marek\n",
      "Lukas\n",
      "Jan\n",
      "Lucie\n",
      "Aneta\n",
      "Eva\n",
      "Lenka\n",
      "Helmut\n",
      "Hammet\n",
      "Hetfield\n",
      "Harold\n"
     ]
    }
   ],
   "source": [
    "jmena = [\n",
    "    [\"Matous\", \"Marek\", \"Lukas\", \"Jan\"],\n",
    "    [\"Lucie\", \"Aneta\", \"Eva\", \"Lenka\"],\n",
    "    [\"Helmut\", \"Hammet\", \"Hetfield\", \"Harold\"],\n",
    "]\n",
    "\n",
    "for seznam in jmena:\n",
    "    for jmeno in seznam:\n",
    "        print(jmeno)"
   ]
  },
  {
   "cell_type": "code",
   "execution_count": 17,
   "metadata": {},
   "outputs": [
    {
     "name": "stdout",
     "output_type": "stream",
     "text": [
      "Vypisuji text pomoci funkce 'print'\n",
      "Vypisuji text pomoci funkce 'print'\n",
      "Vypisuji text pomoci funkce 'print'\n",
      "Vypisuji text pomoci funkce 'print'\n",
      "Vypisuji text pomoci funkce 'print'\n"
     ]
    }
   ],
   "source": [
    "for _ in range(5):\n",
    "    print(\"Vypisuji text pomoci funkce \\'print\\'\")"
   ]
  },
  {
   "cell_type": "code",
   "execution_count": 20,
   "metadata": {},
   "outputs": [
    {
     "name": "stdout",
     "output_type": "stream",
     "text": [
      "Klasicka smycka: {'Praha': 1335084, 'Brno': 382405, 'Ostrava': 284982}\n",
      "Dict comprehension: {'Praha': 1335084, 'Brno': 382405, 'Ostrava': 284982}\n"
     ]
    }
   ],
   "source": [
    "# původní slovník se všemi městy\n",
    "mesta = {\n",
    "    \"Praha\": 1_335_084, \n",
    "    \"Brno\": 382_405, \n",
    "    \"Ostrava\": 284_982,\n",
    "    \"Plzen\": 175_219, \n",
    "    \"Liberec\": 104_261\n",
    "}\n",
    "\n",
    "# klasická smyčka 'for'\n",
    "nad_sto_tisic_obyv = dict()\n",
    "\n",
    "for mesto in mesta:\n",
    "    if mesta[mesto] > 200_000:\n",
    "        nad_sto_tisic_obyv[mesto] = mesta[mesto]\n",
    "else:\n",
    "    print(f\"Klasicka smycka: {nad_sto_tisic_obyv}\")\n",
    "\n",
    "# dict comprehensions\n",
    "nad_sto_tisic_obyv_compr = {\n",
    "    mesto: mesta[mesto]\n",
    "    for mesto in mesta\n",
    "    if mesta[mesto] > 200_000\n",
    "}\n",
    "print(f\"Dict comprehension: {nad_sto_tisic_obyv_compr}\")"
   ]
  },
  {
   "cell_type": "code",
   "execution_count": 21,
   "metadata": {},
   "outputs": [
    {
     "name": "stdout",
     "output_type": "stream",
     "text": [
      "klasicky postup: ['Helmut', 'Hetfield']\n",
      "Comprehension: ['Helmut', 'Hetfield']\n"
     ]
    }
   ],
   "source": [
    "# zadaný list listů\n",
    "jmena = [\n",
    "    [\"Matous\", \"Marek\", \"Lukas\", \"Jan\"],\n",
    "    [\"Lucie\", \"Aneta\", \"Michaela\", \"Lenka\"],\n",
    "    [\"Helmut\", \"Hammet\", \"Hetfield\", \"Harold\"]\n",
    "]\n",
    "\n",
    "# klasická nestovaná smyčka\n",
    "hledana_jmena = list()\n",
    "\n",
    "for seznam in jmena:\n",
    "    for jmeno in seznam:\n",
    "        if jmeno.startswith(\"He\"):\n",
    "            hledana_jmena.append(jmeno)\n",
    "\n",
    "print(f\"klasicky postup: {hledana_jmena}\")\n",
    "\n",
    "# nestovaná komprehence\n",
    "hledana_jmena_compr = [\n",
    "    jmeno\n",
    "    for radek in jmena\n",
    "    for jmeno in radek\n",
    "    if jmeno.startswith(\"He\")\n",
    "]\n",
    "print(f\"Comprehension: {hledana_jmena_compr}\")"
   ]
  },
  {
   "cell_type": "code",
   "execution_count": 32,
   "metadata": {},
   "outputs": [
    {
     "name": "stdout",
     "output_type": "stream",
     "text": [
      "Počet samohlásek: 25 | Počet souhlásek: 35\n"
     ]
    }
   ],
   "source": [
    "# Definice proměnných\n",
    "veta = \"Zvuk řeči je produkován poměrně otevřenou konfigurací vokálního traktu\"\n",
    "samohlasky = \"aeiouáéíóú\"\n",
    "souhlasky = \"bcčdďfghjklmnňprřsštťvzž\"\n",
    "\n",
    "# Inicializace výsledného slovníku\n",
    "vysledek = {\"samohlasky\": 0, \"souhlasky\": 0}\n",
    "\n",
    "# Iterace přes každý znak ve větě\n",
    "for znak in veta.lower():  # Převádíme na malá písmena pro zjednodušení kontroly\n",
    "    if znak in samohlasky:  # Kontrola, zda je znak samohláska\n",
    "        vysledek[\"samohlasky\"] += 1\n",
    "    elif znak in souhlasky:  # Kontrola, zda je znak souhláska\n",
    "        vysledek[\"souhlasky\"] += 1\n",
    "    else:\n",
    "        # Znak není samohláska ani souhláska, přeskočíme ho\n",
    "        continue\n",
    "\n",
    "# Použití sep v print()\n",
    "print(\n",
    "    \"Počet samohlásek:\", vysledek['samohlasky'], \n",
    "    \"|\", \n",
    "    \"Počet souhlásek:\", vysledek['souhlasky'], \n",
    "    sep=\" \"\n",
    ")\n",
    "\n",
    "\n"
   ]
  },
  {
   "cell_type": "markdown",
   "metadata": {},
   "source": [
    "sečti všechna sudá čísla a výsledek ulož do proměnné suda,\n",
    "sečti všechna lichá čísla a výsledek ulož do proměnné licha,\n",
    "nakonec získáš rozdíl mezi těmito dvěma součty (proměnná vysledek),\n",
    "zajisti, že výsledek nebude záporné číslo (k tomu by ti mohly pomoci built-in funkce pro numerické typy, zmiňované v první lekci)."
   ]
  },
  {
   "cell_type": "code",
   "execution_count": 38,
   "metadata": {},
   "outputs": [
    {
     "name": "stdout",
     "output_type": "stream",
     "text": [
      "Rozdíl je: 4\n"
     ]
    }
   ],
   "source": [
    "cisla = [1, 2, 3, 4, 5, 6, 7, 8]\n",
    "\n",
    "licha = 0\n",
    "suda= 0\n",
    "\n",
    "for cislo in cisla:\n",
    "    if cislo % 2 == 0:\n",
    "        suda = suda + cislo\n",
    "    else:\n",
    "        licha = licha + cislo\n",
    "\n",
    "vysledek = abs(suda - licha)\n",
    "print(f\"Rozdíl je: {vysledek}\")\n"
   ]
  },
  {
   "cell_type": "markdown",
   "metadata": {},
   "source": [
    "ověří jestli jsou proměnné start, stop a delitel datový typ int (pomocí built-in funkce isinstance),\n",
    "pokud jsou int, vypiš oznámení dle ukázky níž,\n",
    "pokud alespoň jeden není int, vypiš oznámení dle ukázky níž a ukonči skript,\n",
    "jestli jsou jednotlivé hodnoty z intervalu dělitelné hodnotou v proměnné delitel, potom je přidej do zadaného seznamu vysledek,\n",
    "po skončení iterace všech hodnot vypiš výsledné hodnoty podle vzoru níže."
   ]
  },
  {
   "cell_type": "code",
   "execution_count": 44,
   "metadata": {},
   "outputs": [
    {
     "name": "stdout",
     "output_type": "stream",
     "text": [
      "Zadaný rozsah: <3, 9>\n",
      "Cisla delitna 3: [3, 6, 9]\n"
     ]
    }
   ],
   "source": [
    "# Zadaná proměnná\n",
    "vysledek = []\n",
    "\n",
    "# Zadané hodnoty: počáteční hodn., konečná hodn., dělitel\n",
    "start = 3\n",
    "stop = 9\n",
    "delitel = 3\n",
    "\n",
    "if isinstance(start, int) \\\n",
    "        and isinstance(stop, int) \\\n",
    "        and isinstance(delitel, int):\n",
    "    print(\"Zadaný rozsah: <\", start, \", \", stop, \">\", sep=\"\")\n",
    "    # Iteruj skrze rozsah zadaných čísel\n",
    "    for number in range(start, stop + 1):\n",
    "        # .. pokud je vybrané číslo dělitelné hodnotou v prom. \"delitel\"\n",
    "        if number % int(delitel) == 0:\n",
    "            # .. přidej jej do seznamu \"vysledek\"\n",
    "            vysledek.append(number)\n",
    "    # doplň výpis hodnot v proměnné 'vysledek'\n",
    "    print(f\"Cisla delitna {delitel}: {vysledek}\")\n",
    "\n",
    "else:\n",
    "    print(\"Zadané vstupy musí být čísla.\")"
   ]
  },
  {
   "cell_type": "markdown",
   "metadata": {},
   "source": [
    "Zadanou proměnnou seznam_slov, s hodnotami: [\"jablko\", \"pomeranč\", \"banán\", \"kiwi\", \"hruška\"],\n",
    "do proměnné delky_slov zapiš slovníkovou komprehenci tak, aby ukládála hodnoty ve formátu: slovo: delka_slova, tedy:\"svetr\": 5,\n",
    "nakonec vypiš výsledek pomocí funkce print."
   ]
  },
  {
   "cell_type": "code",
   "execution_count": 45,
   "metadata": {},
   "outputs": [
    {
     "name": "stdout",
     "output_type": "stream",
     "text": [
      "{'jablko': 6, 'pomeranč': 8, 'banán': 5, 'kiwi': 4, 'hruška': 6}\n"
     ]
    }
   ],
   "source": [
    "seznam_slov = [\"jablko\", \"pomeranč\", \"banán\", \"kiwi\", \"hruška\"]\n",
    "\n",
    "delka_slov = {slovo: len(slovo) for slovo in seznam_slov}\n",
    "\n",
    "print(delka_slov)"
   ]
  },
  {
   "cell_type": "markdown",
   "metadata": {},
   "source": [
    "Opakovani cviceni od lekce 1"
   ]
  },
  {
   "cell_type": "code",
   "execution_count": 49,
   "metadata": {},
   "outputs": [
    {
     "name": "stdout",
     "output_type": "stream",
     "text": [
      "prvnich 5 pismen: index\n",
      "poslednich 5 pismen: ovani\n",
      "kazde 3. pismeno (pocinaje prvnim) od 'i' : ievi\n"
     ]
    }
   ],
   "source": [
    "index = \"indexovani\"\n",
    "index_0_5 = index [:5]\n",
    "index_5_0 = index [-5:]\n",
    "index_3 = index [::3]\n",
    "\n",
    "print (f\"prvnich 5 pismen: {index_0_5}\")\n",
    "print (f\"poslednich 5 pismen: {index_5_0}\")\n",
    "print (f\"kazde 3. pismeno (pocinaje prvnim) od 'i' : {index_3}\")"
   ]
  },
  {
   "cell_type": "markdown",
   "metadata": {},
   "source": [
    "Uloží hodnotu \"Lukáš\", do proměnné jmeno,\n",
    "uloží hodnotu \"Dvořák\", do proměnné prijmeni,\n",
    "vytvoří proměnnou cele_jmeno, do které spojíš hodnoty v proměnných jmeno a prijmeni oddělené mezerou,\n",
    "vytvoří proměnnou delka_jmena, která bude obsahovat délku hodnoty v proměnné cele_jmeno (započítej i přidanou mezeru),vypíše hodnotu v proměnné delka_jmena (doplněnou stringem \"Délka jména:\"),vypíše proměnnou cele_jmeno, která bude shora i zespoda ohraničená řadami rovnítek."
   ]
  },
  {
   "cell_type": "code",
   "execution_count": 60,
   "metadata": {},
   "outputs": [
    {
     "name": "stdout",
     "output_type": "stream",
     "text": [
      "delka jmena: 12\n",
      "============\n",
      "lukas dvorak\n",
      "============\n"
     ]
    }
   ],
   "source": [
    "jmeno = \"lukas\"\n",
    "prijmeni = \"dvorak\"\n",
    "\n",
    "cele_jmeno = f\"{jmeno} {prijmeni}\"\n",
    "\n",
    "delka_jmena = len(cele_jmeno) \n",
    "\n",
    "\n",
    "print(f\"delka jmena: {delka_jmena}\")\n",
    "print(delka_jmena*\"=\")\n",
    "print(cele_jmeno)\n",
    "print(delka_jmena*\"=\")\n"
   ]
  },
  {
   "cell_type": "code",
   "execution_count": 75,
   "metadata": {},
   "outputs": [
    {
     "name": "stdout",
     "output_type": "stream",
     "text": [
      "['Anežka']\n",
      "na indexu 2 je:  Bruno\n",
      "na <poslednim indexu> je : ['Anežka']\n",
      "v intervalu 2 a je:  ['František', 'Anna', 'Klára', 'Anežka']\n"
     ]
    }
   ],
   "source": [
    "employees = [\n",
    "    'František', 'Bruno',\n",
    "    'Anna', 'Jakub',\n",
    "    'Klára', 'Anežka',\n",
    "    'Anežka', 'Anežka'\n",
    "]\n",
    "\n",
    "last_index = employees[-1:]\n",
    "print(last_index)\n",
    "\n",
    "print(\"na indexu 2 je: \", employees[1])\n",
    "print(\"na <poslednim indexu> je :\", last_index)\n",
    "print(\"v intervalu 2 a je: \", employees[::2])"
   ]
  }
 ],
 "metadata": {
  "kernelspec": {
   "display_name": "Pandas",
   "language": "python",
   "name": "python3"
  },
  "language_info": {
   "codemirror_mode": {
    "name": "ipython",
    "version": 3
   },
   "file_extension": ".py",
   "mimetype": "text/x-python",
   "name": "python",
   "nbconvert_exporter": "python",
   "pygments_lexer": "ipython3",
   "version": "3.11.9"
  }
 },
 "nbformat": 4,
 "nbformat_minor": 2
}
